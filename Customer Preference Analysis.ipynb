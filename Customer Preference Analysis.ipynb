{
 "cells": [
  {
   "cell_type": "code",
   "execution_count": null,
   "id": "17a8d203-c3fe-4a0b-984b-a0762ed5c464",
   "metadata": {},
   "outputs": [],
   "source": [
    "import pandas as pd\n",
    "\n",
    "# Load dataset\n",
    "df = pd.read_csv('yasotha/CognifyzTasks/Dataset .csv')\n",
    "\n",
    "# Convert 'Aggregate rating' to numeric\n",
    "df['Aggregate rating'] = pd.to_numeric(df['Aggregate rating'], errors='coerce')\n",
    "\n",
    "# Convert 'Votes' to numeric\n",
    "df['Votes'] = pd.to_numeric(df['Votes'], errors='coerce')\n",
    "\n",
    "# Group by 'Cuisines' and calculate average rating and total votes\n",
    "cuisine_stats = df.groupby('Cuisines').agg({\n",
    "    'Aggregate rating': 'mean',\n",
    "    'Votes': 'sum'\n",
    "}).reset_index()\n",
    "\n",
    "# Sort cuisines by total votes to identify most popular cuisines\n",
    "top_cuisines = cuisine_stats.sort_values(by='Votes', ascending=False)\n",
    "\n",
    "# Identify cuisines with higher average ratings (e.g., above overall mean)\n",
    "overall_avg_rating = df['Aggregate rating'].mean()\n",
    "high_rating_cuisines = cuisine_stats[cuisine_stats['Aggregate rating'] > overall_avg_rating]\n",
    "\n",
    "# Output results\n",
    "print(\"Top cuisines by number of votes:\")\n",
    "print(top_cuisines.head(10))\n",
    "\n",
    "print(\"\\nCuisines with average rating above overall average:\")\n",
    "print(high_rating_cuisines.sort_values(by='Aggregate rating', ascending=False).head(10))\n"
   ]
  }
 ],
 "metadata": {
  "kernelspec": {
   "display_name": "Python 3 (ipykernel)",
   "language": "python",
   "name": "python3"
  },
  "language_info": {
   "codemirror_mode": {
    "name": "ipython",
    "version": 3
   },
   "file_extension": ".py",
   "mimetype": "text/x-python",
   "name": "python",
   "nbconvert_exporter": "python",
   "pygments_lexer": "ipython3",
   "version": "3.13.3"
  }
 },
 "nbformat": 4,
 "nbformat_minor": 5
}
